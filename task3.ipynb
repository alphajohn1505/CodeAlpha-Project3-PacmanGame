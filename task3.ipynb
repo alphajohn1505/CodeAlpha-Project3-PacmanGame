{
 "cells": [
  {
   "cell_type": "code",
   "execution_count": 1,
   "id": "f845474d",
   "metadata": {},
   "outputs": [
    {
     "name": "stdout",
     "output_type": "stream",
     "text": [
      "pygame 2.5.0 (SDL 2.28.0, Python 3.10.9)\n",
      "Hello from the pygame community. https://www.pygame.org/contribute.html\n"
     ]
    },
    {
     "ename": "SystemExit",
     "evalue": "",
     "output_type": "error",
     "traceback": [
      "An exception has occurred, use %tb to see the full traceback.\n",
      "\u001b[1;31mSystemExit\u001b[0m\n"
     ]
    },
    {
     "name": "stderr",
     "output_type": "stream",
     "text": [
      "C:\\Users\\oscur\\anaconda3\\lib\\site-packages\\IPython\\core\\interactiveshell.py:3468: UserWarning: To exit: use 'exit', 'quit', or Ctrl-D.\n",
      "  warn(\"To exit: use 'exit', 'quit', or Ctrl-D.\", stacklevel=1)\n"
     ]
    }
   ],
   "source": [
    "import pygame\n",
    "import sys\n",
    "\n",
    "# Initialize Pygame\n",
    "pygame.init()\n",
    "\n",
    "# Set up display\n",
    "screen_width = 800\n",
    "screen_height = 600\n",
    "screen = pygame.display.set_mode((screen_width, screen_height))\n",
    "pygame.display.set_caption(\"Pacman Game\")\n",
    "\n",
    "# Colors\n",
    "black = (0, 0, 0)\n",
    "yellow = (255, 255, 0)\n",
    "\n",
    "# Pacman properties\n",
    "pacman_radius = 30\n",
    "pacman_x = screen_width // 2\n",
    "pacman_y = screen_height // 2\n",
    "pacman_speed = 5\n",
    "\n",
    "# Main loop\n",
    "running = True\n",
    "while running:\n",
    "    for event in pygame.event.get():\n",
    "        if event.type == pygame.QUIT:\n",
    "            running = False\n",
    "\n",
    "    # Move Pacman\n",
    "    keys = pygame.key.get_pressed()\n",
    "    if keys[pygame.K_LEFT]:\n",
    "        pacman_x -= pacman_speed\n",
    "    if keys[pygame.K_RIGHT]:\n",
    "        pacman_x += pacman_speed\n",
    "    if keys[pygame.K_UP]:\n",
    "        pacman_y -= pacman_speed\n",
    "    if keys[pygame.K_DOWN]:\n",
    "        pacman_y += pacman_speed\n",
    "\n",
    "    # Clear the screen\n",
    "    screen.fill(black)\n",
    "\n",
    "    # Draw Pacman\n",
    "    pygame.draw.circle(screen, yellow, (pacman_x, pacman_y), pacman_radius)\n",
    "\n",
    "    # Update display\n",
    "    pygame.display.flip()\n",
    "\n",
    "    # Cap the frame rate\n",
    "    pygame.time.Clock().tick(30)\n",
    "\n",
    "# Clean up\n",
    "pygame.quit()\n",
    "sys.exit()"
   ]
  }
 ],
 "metadata": {
  "kernelspec": {
   "display_name": "Python 3 (ipykernel)",
   "language": "python",
   "name": "python3"
  },
  "language_info": {
   "codemirror_mode": {
    "name": "ipython",
    "version": 3
   },
   "file_extension": ".py",
   "mimetype": "text/x-python",
   "name": "python",
   "nbconvert_exporter": "python",
   "pygments_lexer": "ipython3",
   "version": "3.10.9"
  }
 },
 "nbformat": 4,
 "nbformat_minor": 5
}
